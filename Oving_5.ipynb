{
 "cells": [
  {
   "cell_type": "markdown",
   "metadata": {},
   "source": [
    "### Teori 3 - Digital representasjon\n",
    "**a)**  \n",
    "2^32-1 forskjellige heltall  \n",
    "**b)**  \n",
    "Digital - Analog converter. Brukes ofte i musikkspillere der digital representasjon av lyd blir omformet til hørbar analog lyd.  \n",
    "**c)**  \n",
    "100010, 0x12  \n",
    "**d)**  \n",
    "079 076 069  \n",
    "**e)**  \n",
    "En piksel er et lyspunkt på en skjerm. Piksler representerer farger ved hjelp av varierende styrker av rødt, grønt og blått.  \n",
    "**f)**  \n",
    "Analog lyd er kontinuerlig og hørbar som lyd for menneskeøret. Digital lyd er diskret og \"lurer\" øret til å tro at den er analog. Man kan gå fra den ene til den andre ved hjelp av en konverterer, som DAC eller ADC.  \n",
    "**g)**  \n",
    "Metadata er data om data, derav navnet. Metadataen uttrykker hjelpsom informasjon som størrelse, filtype, plassering mm.  \n"
   ]
  },
  {
   "cell_type": "code",
   "execution_count": null,
   "metadata": {
    "collapsed": true
   },
   "outputs": [],
   "source": [
    "# Generelt om funksjoner\n",
    "def xy(x, y):\n",
    "    return x*y\n",
    "\n",
    "def argprint(arg):\n",
    "    print(arg)\n",
    "    \n",
    "def print_2():\n",
    "    return 2"
   ]
  },
  {
   "cell_type": "code",
   "execution_count": 17,
   "metadata": {
    "collapsed": true
   },
   "outputs": [],
   "source": [
    "# Kollektiv-app\n",
    "def pristabell():\n",
    "    def sykkel_prompt():\n",
    "        if input('Har du med deg sykkel?(j/n) ') == 'j':\n",
    "            return 50\n",
    "        else: \n",
    "            return 0\n",
    "        \n",
    "    alder = int(input('Hvor gammel er du? '))\n",
    "    \n",
    "    if alder <= 5 or alder >= 60:\n",
    "        pris = 0\n",
    "    elif 5 < alder < 21:\n",
    "        pris = 20\n",
    "    elif 20 < alder < 26:\n",
    "        pris = 50\n",
    "    else:\n",
    "        pris = 80\n",
    "        \n",
    "    print('Prisen blir', pris + sykkel_prompt())"
   ]
  },
  {
   "cell_type": "code",
   "execution_count": 18,
   "metadata": {},
   "outputs": [
    {
     "name": "stdout",
     "output_type": "stream",
     "text": [
      "Hvor gammel er du? 10\n",
      "Har du med deg sykkel?(j/n) j\n",
      "Prisen blir 70\n"
     ]
    }
   ],
   "source": [
    "pristabell()"
   ]
  },
  {
   "cell_type": "code",
   "execution_count": 2,
   "metadata": {
    "collapsed": true
   },
   "outputs": [],
   "source": [
    "# Multiplikasjon\n",
    "def multiplikasjon(tol):\n",
    "    def get_prod(prod, count):\n",
    "        return prod*(1+1/(count**2)), count + 1\n",
    "    \n",
    "    prod = 2\n",
    "    count = 2\n",
    "    \n",
    "    while True:\n",
    "        prod, count = get_prod(prod, count)\n",
    "        if get_prod(prod, count)[0] - prod < tol:\n",
    "            break\n",
    "            \n",
    "    print('Produktet ble %.2f etter %d iterasjoner' % (prod, count))"
   ]
  },
  {
   "cell_type": "code",
   "execution_count": 3,
   "metadata": {},
   "outputs": [
    {
     "name": "stdout",
     "output_type": "stream",
     "text": [
      "Produktet ble 3.62 etter 61 iterasjoner\n"
     ]
    }
   ],
   "source": [
    "multiplikasjon(0.001)"
   ]
  },
  {
   "cell_type": "code",
   "execution_count": 3,
   "metadata": {
    "collapsed": true
   },
   "outputs": [],
   "source": [
    "# Forenkling av brøker\n",
    "def gcd(a, b):\n",
    "    while b:\n",
    "        a, b = b, a%b\n",
    "    return a\n",
    "\n",
    "def reduce_fraction(a, b):\n",
    "    d = gcd(a, b)\n",
    "    return a/d, b/d"
   ]
  },
  {
   "cell_type": "code",
   "execution_count": 13,
   "metadata": {},
   "outputs": [
    {
     "name": "stdout",
     "output_type": "stream",
     "text": [
      "For a = 5; b = 10 skriver programmet ut \"1/2\"\n",
      "For a = 4; b = 2 skriver programmet ut \"2/1\"\n",
      "For a = 42; b = 13 skriver programmet ut \"42/13\"\n"
     ]
    }
   ],
   "source": [
    "verdier = [(5, 10), (4, 2), (42, 13)]\n",
    "\n",
    "for i in range(len(verdier)):\n",
    "    a, b = verdier[i][0], verdier[i][1]\n",
    "    ad, bd = reduce_fraction(a, b)\n",
    "    print('For a = %d; b = %d skriver programmet ut \"%d/%d\"' % (a, b, ad, bd))"
   ]
  },
  {
   "cell_type": "code",
   "execution_count": null,
   "metadata": {
    "collapsed": true
   },
   "outputs": [],
   "source": []
  }
 ],
 "metadata": {
  "anaconda-cloud": {},
  "kernelspec": {
   "display_name": "Python [default]",
   "language": "python",
   "name": "python3"
  },
  "language_info": {
   "codemirror_mode": {
    "name": "ipython",
    "version": 3
   },
   "file_extension": ".py",
   "mimetype": "text/x-python",
   "name": "python",
   "nbconvert_exporter": "python",
   "pygments_lexer": "ipython3",
   "version": "3.5.3"
  }
 },
 "nbformat": 4,
 "nbformat_minor": 2
}
