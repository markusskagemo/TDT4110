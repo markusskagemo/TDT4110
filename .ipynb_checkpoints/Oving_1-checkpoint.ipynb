{
 "cells": [
  {
   "cell_type": "code",
   "execution_count": null,
   "metadata": {},
   "outputs": [],
   "source": [
    "# Tetraeder\n",
    "from math import sqrt\n",
    "\n",
    "def get_height():\n",
    "    # Gidder ikke sjekke for overflow\n",
    "    while True:\n",
    "        try:\n",
    "            height = float(input('Skriv inn høyde: '))\n",
    "            if type(height) == type(1.0):\n",
    "                break\n",
    "        except:\n",
    "            print('Høyden må være et tall.\\n')\n",
    "\n",
    "    if float(height/abs(height)) != 1.0:\n",
    "        print('Høyden må være positiv.\\n')\n",
    "        get_height()\n",
    "        \n",
    "    return height\n",
    "\n",
    "def get_a(height):\n",
    "    return (3*height)/sqrt(6)\n",
    "\n",
    "def get_surface(a):\n",
    "    return sqrt(3)*a**2\n",
    "\n",
    "def get_volume(a):\n",
    "    return (sqrt(2)*(a**3))/12\n",
    "\n",
    "def print_info():\n",
    "    height = get_height()\n",
    "    a = get_a(height)\n",
    "    volume = get_volume(a)\n",
    "    surface = get_surface(a)\n",
    "    print('Et tetraheder med høyde %.1f har volum %.2f og areal %.2f.' % (height, volume, surface))\n",
    "                                                                          "
   ]
  },
  {
   "cell_type": "code",
   "execution_count": null,
   "metadata": {},
   "outputs": [],
   "source": [
    "print_info()"
   ]
  },
  {
   "cell_type": "code",
   "execution_count": 3,
   "metadata": {},
   "outputs": [
    {
     "name": "stdout",
     "output_type": "stream",
     "text": [
      "Vi har en sirkel med radius 5\n",
      "Omkretsen er 31.400000000000002\n",
      "Arealet er 78.5\n",
      "Sylinder med høyde 8 : Volumet er 628.0\n"
     ]
    }
   ],
   "source": [
    "# Syntaksfeil\n",
    "r = 5\n",
    "print(\"Vi har en sirkel med radius\", r)\n",
    "omkrets = 2*3.14*r\n",
    "print(\"Omkretsen er\", omkrets)\n",
    "areal = 3.14*r**2\n",
    "print(\"Arealet er\", areal)\n",
    "h = 8\n",
    "volum = areal*h\n",
    "print(\"Sylinder med høyde\", h, \": Volumet er\", volum)"
   ]
  },
  {
   "cell_type": "code",
   "execution_count": 4,
   "metadata": {
    "collapsed": true
   },
   "outputs": [],
   "source": [
    "# Ditt navn\n",
    "def print_navn():\n",
    "    print('Mitt navn er', input('Skriv inn navnet ditt: '))"
   ]
  },
  {
   "cell_type": "code",
   "execution_count": 5,
   "metadata": {},
   "outputs": [
    {
     "name": "stdout",
     "output_type": "stream",
     "text": [
      "Skriv inn navnet ditt: Marus\n",
      "Mitt navn er Marus\n"
     ]
    }
   ],
   "source": [
    "print_navn()"
   ]
  },
  {
   "cell_type": "code",
   "execution_count": 12,
   "metadata": {
    "collapsed": true
   },
   "outputs": [],
   "source": [
    "def print_navn_pluss():\n",
    "    navn = input('Ditt navn: ')\n",
    "    alder = input('Din alder: ')\n",
    "    print('Mitt navn er %s og jeg er %s år.' % (navn, alder))"
   ]
  },
  {
   "cell_type": "code",
   "execution_count": 14,
   "metadata": {},
   "outputs": [
    {
     "name": "stdout",
     "output_type": "stream",
     "text": [
      "Ditt navn: Markus\n",
      "Din alder: 20\n",
      "Mitt navn er Markus og jeg er 20 år.\n"
     ]
    }
   ],
   "source": [
    "print_navn_pluss()"
   ]
  },
  {
   "cell_type": "markdown",
   "metadata": {},
   "source": [
    " "
   ]
  }
 ],
 "metadata": {
  "anaconda-cloud": {},
  "kernelspec": {
   "display_name": "Python [conda root]",
   "language": "python",
   "name": "conda-root-py"
  },
  "language_info": {
   "codemirror_mode": {
    "name": "ipython",
    "version": 3
   },
   "file_extension": ".py",
   "mimetype": "text/x-python",
   "name": "python",
   "nbconvert_exporter": "python",
   "pygments_lexer": "ipython3",
   "version": "3.5.3"
  }
 },
 "nbformat": 4,
 "nbformat_minor": 2
}
