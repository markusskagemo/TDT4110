{
 "cells": [
  {
   "cell_type": "markdown",
   "metadata": {},
   "source": [
    "**1a)**  \n",
    "*primær lagring*  \n",
    "    minne  \n",
    "        RAM  \n",
    "        cache  \n",
    "          \n",
    "*sekundær lagring*  \n",
    "    SSD  \n",
    "    HDD  \n",
    "    \n",
    "Primær lagring er i hardwaresammenheng lagringsplassen som er flytende og eller nødvendig for kjapp tilgang.  \n",
    "Sekundær lagring vil være fra kilder som datamaskinens harddisker/SSDer.  \n",
    "  \n",
    "**b)**  \n",
    "*Harddisk*: permanent, sekvensielt  \n",
    "*SSD*: permanent, tilfeldig og sekvensielt (random write/read, sequential write/read)  \n",
    "*RAM*: volatilt, tilfeldig  \n",
    "  \n",
    "**c)**  \n",
    "Silisium er en halvleder, noe som gjør den til en god kandidat som substrat for en transistor.  \n",
    "\n",
    "**d)**  \n",
    "Datamaskinen kan lagre forskjellige medier ved at datamaskinens operativsystem kommuniserer med hardware og lagrer de i permanent form på maskinspråk. Når noe er lagret på maskinspråk kan det også manipuleres på samme måte.\n",
    "  \n",
    "**e)**  \n",
    "32 kByte/40 = 0.8 kByte/s = *6.4 kBit/s*  \n",
    "  \n",
    "**f)**  \n",
    "OSet er programvaren som gjør det mulig å kommunisere med hardwaren i datamaskinen. Dette gjør det gjennom lavnivå-programvare som kernelen og annen drivernivå-kommunikasjon. OSet kan f.eks. allokere minne og bestemme hvor i minnet noe skal plasseres."
   ]
  },
  {
   "cell_type": "code",
   "execution_count": 6,
   "metadata": {},
   "outputs": [
    {
     "name": "stdout",
     "output_type": "stream",
     "text": [
      "Hva er 3*4? Svar: 12\n",
      "Stemmer bra.\n"
     ]
    }
   ],
   "source": [
    "# Generelt om betingelser\n",
    "def ab_min():\n",
    "    a = input('Skriv inn a: ')\n",
    "    b = input('Skriv inn b: ')\n",
    "\n",
    "    print(min(a, b))\n",
    "\n",
    "def svar_riktig():\n",
    "    if(input('Hva er 3*4? Svar: ') == '12'):\n",
    "        print('Stemmer bra.')\n",
    "    else:\n",
    "        print('Feil svar.')\n",
    "    \n",
    "svar_riktig()"
   ]
  },
  {
   "cell_type": "markdown",
   "metadata": {},
   "source": [
    "### Hva gjør koden  \n",
    "**a)** Hvor mange ganger går tall1 opp i tall2, resultatet er antall ganger.  \n",
    "**b)** input lagres alltid som string, derfor må det konverteres til flyttall. Ingenting kan gå opp i 0 heller. (mod by zero)  \n",
    "**c)** Hvis tallet a er mindre enn b, eller a lar seg heltallsdividere med b, blir a og b addert. Ellers return  \n",
    "**d)** Hvis a=3 og b=3 returneres a: 3\\nb: 6"
   ]
  },
  {
   "cell_type": "code",
   "execution_count": 187,
   "metadata": {},
   "outputs": [
    {
     "name": "stdout",
     "output_type": "stream",
     "text": [
      "Skriv inn din poengsum: 0\n",
      "Du fikk F\n"
     ]
    }
   ],
   "source": [
    "def karaktergrense():\n",
    "    poeng = int(input('Skriv inn din poengsum: '))\n",
    "    \n",
    "    karakterer = ['A', 'B', 'C', 'D', 'E', 'F']\n",
    "    for _ in range(4):\n",
    "        karakterer.append('F')\n",
    "        \n",
    "    karakter = karakterer[(100-poeng-1)//11]\n",
    "    print('Du fikk %s' % karakter)\n",
    "\n",
    "karaktergrense()"
   ]
  },
  {
   "cell_type": "code",
   "execution_count": 189,
   "metadata": {
    "collapsed": true
   },
   "outputs": [],
   "source": [
    "# Billettpriser\n",
    "def billettpris():\n",
    "    dager = int(input('Dager til du skal reise: '))\n",
    "    if dager >= 15:\n",
    "        print('Du kan få minipris: 199.-')\n",
    "    else:\n",
    "        print('For sent for minipris; fullpris: 499.-')\n",
    "\n",
    "def billettpris_mer():\n",
    "    dager = int(input('Dager til du skal reise: '))\n",
    "    if dager >= 15:\n",
    "        print('Minipris: 199.- kan ikke refunderes/endres')\n",
    "        respons = input('Ønskes dette? ')\n",
    "        \n",
    "        if respons == 'J':\n",
    "            print('Takk for pengene, god reise!')\n",
    "        else:\n",
    "            print('Da tilbyr vi fullpris: 440.-')\n",
    "    else:\n",
    "        print('For sent for minipris; fullpris: 499.-')\n",
    "\n",
    "def billettpris_enda_mer():\n",
    "    def nei_case():\n",
    "        alder = int(input('Skriv inn din alder: '))\n",
    "        if alder < 16:\n",
    "            print('Prisen på billetten blir 220.-')\n",
    "        elif alder >= 60:\n",
    "            print('Prisen på billetten blir 330.-')\n",
    "        else:\n",
    "            respons_student = input('Er du student/militær? ')\n",
    "            if respons_student == 'J':\n",
    "                print('Prisen på billetten blir 330.-')\n",
    "            else: \n",
    "                print('Prisen på billetten blir 440.-')\n",
    "                \n",
    "    dager = int(input('Dager til du skal reise: '))\n",
    "    \n",
    "    if dager >= 15:\n",
    "        print('Minipris: 199.- kan ikke refunderes/endres')\n",
    "        respons = input('Ønskes dette? ')\n",
    "        \n",
    "        if respons == 'J':\n",
    "            print('Takk for pengene, god reise!')\n",
    "        else:\n",
    "            nei_case()\n",
    "    else:\n",
    "        nei_case()"
   ]
  },
  {
   "cell_type": "code",
   "execution_count": 191,
   "metadata": {},
   "outputs": [
    {
     "name": "stdout",
     "output_type": "stream",
     "text": [
      "Dager til du skal reise: 10\n",
      "Skriv inn din alder: 19\n",
      "Er du student/militær? N\n"
     ]
    }
   ],
   "source": [
    "billettpris_enda_mer()"
   ]
  },
  {
   "cell_type": "code",
   "execution_count": null,
   "metadata": {
    "collapsed": true
   },
   "outputs": [],
   "source": []
  }
 ],
 "metadata": {
  "anaconda-cloud": {},
  "kernelspec": {
   "display_name": "Python [default]",
   "language": "python",
   "name": "python3"
  },
  "language_info": {
   "codemirror_mode": {
    "name": "ipython",
    "version": 3
   },
   "file_extension": ".py",
   "mimetype": "text/x-python",
   "name": "python",
   "nbconvert_exporter": "python",
   "pygments_lexer": "ipython3",
   "version": "3.5.3"
  }
 },
 "nbformat": 4,
 "nbformat_minor": 2
}
