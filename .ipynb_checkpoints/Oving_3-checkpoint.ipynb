{
 "cells": [
  {
   "cell_type": "code",
   "execution_count": 11,
   "metadata": {},
   "outputs": [],
   "source": [
    "# Introduksjon til løkker\n",
    "def a1():\n",
    "    for i in range(1, 6):\n",
    "        print(i)\n",
    "\n",
    "def a2():\n",
    "    i = 1\n",
    "    while i <= 5:\n",
    "        print(i)\n",
    "        i += 1\n",
    "\n",
    "def a3():\n",
    "    for i in range(15, 0, -1):\n",
    "        print(i)\n",
    "        \n",
    "def a4():\n",
    "    i = 15\n",
    "    while i >= 1:\n",
    "        print(i)\n",
    "        i -= 1"
   ]
  },
  {
   "cell_type": "code",
   "execution_count": 19,
   "metadata": {},
   "outputs": [
    {
     "name": "stdout",
     "output_type": "stream",
     "text": [
      "Hva er 3*4? 121\n",
      "Hva er 3*4? 1212\n",
      "Hva er 3*4? 3123123\n",
      "Hva er 3*4? 12\n",
      "riktig.\n"
     ]
    }
   ],
   "source": [
    "# Generelt om løkker\n",
    "def b1():\n",
    "    sum_i = 0\n",
    "    for i in range(1, 101):\n",
    "        sum_i += i\n",
    "\n",
    "def b2():\n",
    "    sum_1 = 0\n",
    "    i = 1\n",
    "    while sum_i < 1000:\n",
    "        i *= i+1\n",
    "        i += 1\n",
    "    print(sum_i)\n",
    "    \n",
    "def riktig_tall():\n",
    "    svar = input('Hva er 3*4? ')\n",
    "    if svar == '12':\n",
    "        print('Riktig.')\n",
    "    else:\n",
    "        riktig_tall()\n",
    "\n",
    "riktig_tall()"
   ]
  },
  {
   "cell_type": "code",
   "execution_count": null,
   "metadata": {
    "collapsed": true
   },
   "outputs": [],
   "source": []
  }
 ],
 "metadata": {
  "anaconda-cloud": {},
  "kernelspec": {
   "display_name": "Python [default]",
   "language": "python",
   "name": "python3"
  },
  "language_info": {
   "codemirror_mode": {
    "name": "ipython",
    "version": 3
   },
   "file_extension": ".py",
   "mimetype": "text/x-python",
   "name": "python",
   "nbconvert_exporter": "python",
   "pygments_lexer": "ipython3",
   "version": "3.5.3"
  }
 },
 "nbformat": 4,
 "nbformat_minor": 2
}
