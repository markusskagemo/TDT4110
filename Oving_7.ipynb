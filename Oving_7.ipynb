{
 "cells": [
  {
   "cell_type": "markdown",
   "metadata": {},
   "source": [
    "### Teori 5: Nettverk del 2  \n",
    "**a)**  \n",
    "Intranett er et nett som finnes innenfor et begrenset område. F.eks. LAN eller WAN, henholdsvis local area network og wide area network.  \n",
    "**b)**  \n",
    "Verten er startpunktet for informasjonen. Routere formidler bare denne informasjonen.  \n",
    "**c)**  \n",
    "Protokollen definerer regler for kommunikasjon mellom ulike netverksenheter. Disse reglene omhandler blant annet hvordan enheter skal koble seg til hverandre.  \n",
    "**d)**  \n",
    "En IP-adresse er en talladresse som tildeles hver enhet i et nettverk som bruker IP.  \n",
    "**e)**  \n",
    "IPv6 kan støtte 128-bits-adresser, noe som gjør at identiske IP-adresser blir nesten umulig.  \n",
    "**f)**  \n",
    "- 1: Fysisk *(Alt under nettverk)*  \n",
    "- 2: Nettverk *(Alt IP kjører over, som ethernet)*  \n",
    "- 3: Internett *(Adressering og routing mm.)*  \n",
    "- 4: Transport *(Sørger for pålitelig byte-strøm)*  \n",
    "- 5: Applikasjon *(Til brukeren)*  "
   ]
  },
  {
   "cell_type": "code",
   "execution_count": 14,
   "metadata": {},
   "outputs": [],
   "source": [
    "# Gangetabell og lister\n",
    "def separate(numbers, threshold):\n",
    "    less_than = [n for n in numbers if n < threshold]\n",
    "    greater_than = [n for n in numbers if n > threshold]\n",
    "    return greater_than, less_than"
   ]
  },
  {
   "cell_type": "code",
   "execution_count": 28,
   "metadata": {},
   "outputs": [
    {
     "data": {
      "text/plain": [
       "[[1, 2, 3, 4], [2, 4, 6, 8], [3, 6, 9, 12], [4, 8, 12, 16]]"
      ]
     },
     "execution_count": 28,
     "metadata": {},
     "output_type": "execute_result"
    }
   ],
   "source": [
    "def multiplication_table(n):\n",
    "    return [[j*i for i in range(1, n+1)] for j in range(1, n+1)]\n",
    "\n",
    "multiplication_table(4)"
   ]
  },
  {
   "cell_type": "code",
   "execution_count": 33,
   "metadata": {},
   "outputs": [
    {
     "data": {
      "text/plain": [
       "True"
      ]
     },
     "execution_count": 33,
     "metadata": {},
     "output_type": "execute_result"
    }
   ],
   "source": [
    "# Strenghåndtering\n",
    "def check_equal(str1, str2):\n",
    "    return list(str1) == list(str2)\n",
    "\n",
    "check_equal('hallo', 'hallo')"
   ]
  },
  {
   "cell_type": "code",
   "execution_count": 42,
   "metadata": {},
   "outputs": [
    {
     "data": {
      "text/plain": [
       "'!gad doG'"
      ]
     },
     "execution_count": 42,
     "metadata": {},
     "output_type": "execute_result"
    }
   ],
   "source": [
    "def reversed_word(str1):\n",
    "    return str1[::-1]\n",
    "\n",
    "reversed_word('God dag!')"
   ]
  },
  {
   "cell_type": "code",
   "execution_count": 43,
   "metadata": {},
   "outputs": [
    {
     "data": {
      "text/plain": [
       "True"
      ]
     },
     "execution_count": 43,
     "metadata": {},
     "output_type": "execute_result"
    }
   ],
   "source": [
    "def check_palindrome(str1, str2):\n",
    "    return reversed_word(str1) == str2\n",
    "\n",
    "check_palindrome('hei', 'ieh')"
   ]
  },
  {
   "cell_type": "code",
   "execution_count": 44,
   "metadata": {},
   "outputs": [
    {
     "data": {
      "text/plain": [
       "3"
      ]
     },
     "execution_count": 44,
     "metadata": {},
     "output_type": "execute_result"
    }
   ],
   "source": [
    "def contains_string(str1, str2):\n",
    "    for i in range(len(str1)):\n",
    "        if str2 == str1[i:i+len(str2)]:\n",
    "            return i\n",
    "\n",
    "contains_string('pepperkake', 'per')"
   ]
  },
  {
   "cell_type": "code",
   "execution_count": 66,
   "metadata": {},
   "outputs": [
    {
     "name": "stdout",
     "output_type": "stream",
     "text": [
      "489\n",
      "3\n",
      "[10, 10, 10, 10, 10, 10, 10, 9, 9, 9, 9, 9, 9, 8, 8, 8, 8, 8, 8, 8, 8, 8, 7, 7, 7, 7, 7, 7, 7, 7, 7, 7, 7, 6, 6, 6, 6, 6, 5, 5, 5, 5, 5, 5, 5, 5, 5, 5, 5, 5, 4, 4, 4, 4, 4, 4, 4, 4, 4, 3, 3, 3, 3, 3, 3, 3, 3, 3, 3, 3, 3, 3, 3, 3, 3, 3, 3, 2, 2, 2, 2, 2, 2, 2, 2, 2, 2, 2, 2, 2, 1, 1, 1, 1, 1, 1, 1, 1, 1, 1]\n"
     ]
    }
   ],
   "source": [
    "# Innebygde funksjoner og lister\n",
    "# a)\n",
    "import random\n",
    "random_numbers = [random.randint(1, 10) for i in range(100)]\n",
    "# b)\n",
    "random_numbers.count(2)\n",
    "# c)\n",
    "print(sum(random_numbers))\n",
    "# d) \n",
    "random_numbers = sorted(random_numbers)\n",
    "# e) \n",
    "type_index = [random_numbers.count(i) for i in range(1, 11)]\n",
    "print(type_index.index(max(type_index))+1)\n",
    "# f)\n",
    "print(random_numbers[::-1])"
   ]
  },
  {
   "cell_type": "code",
   "execution_count": 69,
   "metadata": {},
   "outputs": [
    {
     "data": {
      "text/plain": [
       "[6, 5, 6, 5, 6, 6, 7, 7, 5, 6]"
      ]
     },
     "execution_count": 69,
     "metadata": {},
     "output_type": "execute_result"
    }
   ],
   "source": [
    "# Sammenhengende tallrekke\n",
    "def randList(size, lower, upper):\n",
    "    # lager heltall\n",
    "    import random\n",
    "    return [random.randint(lower, upper) for _ in range(size)]\n",
    "\n",
    "randList(10, 5, 7)"
   ]
  },
  {
   "cell_type": "code",
   "execution_count": 97,
   "metadata": {},
   "outputs": [],
   "source": [
    "def compareLists(list1, list2):\n",
    "    return [l1 for l1 in list1 if l1 in list2]\n",
    "                \n",
    "def multiCompLists(lists):\n",
    "    # \n",
    "    pass\n",
    "\n",
    "def longestEven(list1):\n",
    "    greatest, n, index = 0, 0, 0\n",
    "    \n",
    "    for i in range(1, len(list1)):\n",
    "        if not list1[i]%2 and not list1[i-1]%2:\n",
    "            n += 1\n",
    "        else:\n",
    "            if greatest != max(greatest, n):\n",
    "                index = i-n\n",
    "                greatest = max(greatest, n)\n",
    "            n = 0\n",
    "    return index, greatest"
   ]
  },
  {
   "cell_type": "code",
   "execution_count": 98,
   "metadata": {},
   "outputs": [
    {
     "name": "stdout",
     "output_type": "stream",
     "text": [
      "[3, 4, 2, 4, 4, 5, 3, 2, 5, 3, 4, 2, 3, 3, 2]\n",
      "(2, 3)\n"
     ]
    }
   ],
   "source": [
    "l1 = [random.randint(2, 5) for _ in range(15)]\n",
    "print(l1)\n",
    "print(longestEven(l1))"
   ]
  }
 ],
 "metadata": {
  "anaconda-cloud": {},
  "kernelspec": {
   "display_name": "Python [default]",
   "language": "python",
   "name": "python3"
  },
  "language_info": {
   "codemirror_mode": {
    "name": "ipython",
    "version": 3
   },
   "file_extension": ".py",
   "mimetype": "text/x-python",
   "name": "python",
   "nbconvert_exporter": "python",
   "pygments_lexer": "ipython3",
   "version": "3.5.3"
  }
 },
 "nbformat": 4,
 "nbformat_minor": 2
}
