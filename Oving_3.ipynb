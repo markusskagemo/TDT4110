{
 "cells": [
  {
   "cell_type": "markdown",
   "metadata": {},
   "source": [
    "### Teori 2 - Datamaskiner  \n",
    "**a)**  \n",
    "Pseudokode er en lettleselig måte å forklare programkode på. Noen algoritmer kan være komplekse, og pseudokoden hjelper deg å få oversikt over arkitekturen på en tilnærming av programspråk. ex. a4  \n",
    "~~~~\n",
    "i = 15\n",
    "while i >= 1\n",
    "    print i\n",
    "    i -= 1\n",
    "~~~~  \n",
    "Python og pseudokode er så likt at a4 kan skrives nesten akkurat samme i pseudokode som i python.  \n",
    "  \n",
    "**b)**  \n",
    "Et flytdiagram gir oversikt over programarkitekturen på en grafisk måte. Man kan f.eks. se funksjonene/klassene grafisk og se hva de tar inn og gir ut (I/O)  \n",
    "**c)**  \n",
    "Debugging er når man prøver å finne ut hvorfor programmet ikke fungerer som det skal.  \n",
    "**d)**  \n",
    "Lavnivå-språk er nærmere hardwaren, og kan derfor kommunisere mer effektivt med den. Høynivå-språk er i gjengjeld mye enklere å lese og skrive.  \n",
    "**e)**  \n",
    "*Hent*: Hent den kodete instruksjonen datamaskinen skal utføre fra minnet  \n",
    "*Dekode*: Dekoderen tolker instruksjonen  \n",
    "*Les adresse*: Data som kreves hentes fra minnet og plasseres i registeret  \n",
    "*Utfør*: Prosessoren utfører aritmetiske eller logiske operasjoner som kreves  \n",
    "**f)**  \n",
    "Programtelleren har kontroll på minneadressen til den neste instruksjonen  "
   ]
  },
  {
   "cell_type": "code",
   "execution_count": 11,
   "metadata": {
    "collapsed": true
   },
   "outputs": [],
   "source": [
    "# Introduksjon til løkker\n",
    "def a1():\n",
    "    for i in range(1, 6):\n",
    "        print(i)\n",
    "\n",
    "def a2():\n",
    "    i = 1\n",
    "    while i <= 5:\n",
    "        print(i)\n",
    "        i += 1\n",
    "\n",
    "def a3():\n",
    "    for i in range(15, 0, -1):\n",
    "        print(i)\n",
    "        \n",
    "def a4():\n",
    "    i = 15\n",
    "    while i >= 1:\n",
    "        print(i)\n",
    "        i -= 1"
   ]
  },
  {
   "cell_type": "code",
   "execution_count": 21,
   "metadata": {},
   "outputs": [
    {
     "name": "stdout",
     "output_type": "stream",
     "text": [
      "Hva er 3*4? 12312\n",
      "Hva er 3*4? 12\n",
      "Riktig.\n"
     ]
    }
   ],
   "source": [
    "# Generelt om løkker\n",
    "def b1():\n",
    "    sum_i = 0\n",
    "    for i in range(1, 101):\n",
    "        sum_i += i\n",
    "\n",
    "def b2():\n",
    "    sum_1 = 0\n",
    "    i = 1\n",
    "    while sum_i < 1000:\n",
    "        i *= i+1\n",
    "        i += 1\n",
    "    print(sum_i)\n",
    "    \n",
    "def riktig_tall():\n",
    "    svar = input('Hva er 3*4? ')\n",
    "    if svar == '12':\n",
    "        print('Riktig.')\n",
    "    else:\n",
    "        riktig_tall()\n",
    "\n",
    "riktig_tall()"
   ]
  },
  {
   "cell_type": "code",
   "execution_count": 29,
   "metadata": {},
   "outputs": [
    {
     "name": "stdout",
     "output_type": "stream",
     "text": [
      "For å være innenfor toleransegrensen: 0.001, kjørte løkken 1842060 ganger\n",
      "Differansen var da 0.0009999923\n"
     ]
    }
   ],
   "source": [
    "# Geometrisk rekke *\n",
    "def rekke(r, n, tol):\n",
    "    sum_geo = 0\n",
    "    count = 0\n",
    "    grense = 1/(1 - r)\n",
    "    \n",
    "    while count <= n and abs(sum_geo - grense) > tol:\n",
    "        sum_geo += r**count\n",
    "        count += 1\n",
    "        \n",
    "    print('For å være innenfor toleransegrensen: %.3f, kjørte løkken %d ganger\\nDifferansen var da %.10f' % (tol, count, (grense - sum_geo)))\n",
    "\n",
    "rekke(0.99999, 100000000000, 0.001)"
   ]
  },
  {
   "cell_type": "code",
   "execution_count": 30,
   "metadata": {},
   "outputs": [
    {
     "name": "stdout",
     "output_type": "stream",
     "text": [
      "1-gangen\n",
      "1\n",
      "2\n",
      "3\n",
      "4\n",
      "2-gangen\n",
      "2\n",
      "4\n",
      "6\n",
      "8\n",
      "3-gangen\n",
      "3\n",
      "6\n",
      "9\n",
      "12\n",
      "4-gangen\n",
      "4\n",
      "8\n",
      "12\n",
      "16\n"
     ]
    }
   ],
   "source": [
    "# Doble løkker **\n",
    "for i in range(1, 5):\n",
    "    print('%d-gangen' % i)\n",
    "    for j in range(1, 5):\n",
    "        print(i*j)"
   ]
  },
  {
   "cell_type": "code",
   "execution_count": 240,
   "metadata": {},
   "outputs": [],
   "source": [
    "# b)\n",
    "def s_o_e(n):\n",
    "    alle = [i for i in range(2, n+1)]\n",
    "    \n",
    "    for mod in range(2, len(alle)):\n",
    "        alle = [alle[i] for i in range(len(alle)) if (alle[i] % mod != 0 or alle[i] == mod)]\n",
    "        \n",
    "    print(alle)"
   ]
  },
  {
   "cell_type": "code",
   "execution_count": 241,
   "metadata": {},
   "outputs": [
    {
     "name": "stdout",
     "output_type": "stream",
     "text": [
      "[2, 3, 5, 7, 11, 13, 17, 19, 23, 29, 31, 37, 41, 43, 47, 53, 59, 61, 67, 71, 73, 79, 83, 89, 97]\n"
     ]
    }
   ],
   "source": [
    "s_o_e(100)"
   ]
  }
 ],
 "metadata": {
  "anaconda-cloud": {},
  "kernelspec": {
   "display_name": "Python [default]",
   "language": "python",
   "name": "python3"
  },
  "language_info": {
   "codemirror_mode": {
    "name": "ipython",
    "version": 3
   },
   "file_extension": ".py",
   "mimetype": "text/x-python",
   "name": "python",
   "nbconvert_exporter": "python",
   "pygments_lexer": "ipython3",
   "version": "3.5.3"
  }
 },
 "nbformat": 4,
 "nbformat_minor": 2
}
