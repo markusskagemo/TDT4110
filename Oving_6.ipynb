{
 "cells": [
  {
   "cell_type": "markdown",
   "metadata": {},
   "source": [
    "### Teori 4: Nettverk  \n",
    "**a)**  \n",
    "ARPANET, utviklet av *Advanced Research Projects Agency*(ARPA)  \n",
    "**b)**  \n",
    "En paritetsbit legges til en string binærkode for å sørge for at det totale antallet 1-biter i stringen er enten partall eller oddetall. Paritet klarer å finne ut om et odde antall bits har blitt lagt til i stringen.  \n",
    "**c)**  \n",
    "circuit switching fungerer som en telefonlinje, altså består den av en enkel kontinuerlig linje fra sender til mottaker. Packet switching kan ta mange forskjellige veier fram til målet, siden den har flere noder å velge mellom. Packet switching kan derfor fungere selv om noen noder ikke fungerer.  \n",
    "**d)**  \n",
    "- 1: Fysisk *(Alt under nettverk)*  \n",
    "- 2: Nettverk *(Alt IP kjører over, som ethernet)*  \n",
    "- 3: Internett *(Adressering og routing mm.)*  \n",
    "- 4: Transport *(Sørger for pålitelig byte-strøm)*  \n",
    "- 5: Applikasjon *(Til brukeren)*  \n",
    "\n",
    "**e)**  \n",
    "Rutere har oppgaven med å overføre pakker fra en node til den neste. Det er denne teknologien som gjør pakke-switching mulig.  "
   ]
  },
  {
   "cell_type": "code",
   "execution_count": 1,
   "metadata": {},
   "outputs": [
    {
     "name": "stdout",
     "output_type": "stream",
     "text": [
      "6\n"
     ]
    }
   ],
   "source": [
    "# Generelt om lister\n",
    "my_first_list = [i for i in range(1, 7)]\n",
    "print(my_first_list[-1])"
   ]
  },
  {
   "cell_type": "code",
   "execution_count": 2,
   "metadata": {},
   "outputs": [
    {
     "name": "stdout",
     "output_type": "stream",
     "text": [
      "[4, 'pluss', 6] er lik 10\n"
     ]
    }
   ],
   "source": [
    "my_first_list[-2] = 'pluss'\n",
    "my_second_list = my_first_list[-3:]\n",
    "print(my_second_list, 'er lik 10')"
   ]
  },
  {
   "cell_type": "code",
   "execution_count": 7,
   "metadata": {},
   "outputs": [
    {
     "data": {
      "text/plain": [
       "False"
      ]
     },
     "execution_count": 7,
     "metadata": {},
     "output_type": "execute_result"
    }
   ],
   "source": [
    "# Lett og blandet om lister\n",
    "def is_six_at_edge(heltall):\n",
    "    return heltall[0] == 6 or heltall[-1] == 6\n",
    "\n",
    "mfl = [i for i in range(1, 8)]\n",
    "is_six_at_edge(mfl)"
   ]
  },
  {
   "cell_type": "code",
   "execution_count": 17,
   "metadata": {},
   "outputs": [],
   "source": [
    "def average(talliste):\n",
    "    return sum(talliste)/len(talliste)\n",
    "\n",
    "# Antar oddetallslengde\n",
    "def median(talliste):\n",
    "    return sorted(talliste)[len(talliste)//2]"
   ]
  },
  {
   "cell_type": "code",
   "execution_count": 27,
   "metadata": {},
   "outputs": [],
   "source": [
    "def vektor(x, y, z):\n",
    "    return [x, y, z]\n",
    "\n",
    "def print_vektor(vektor):\n",
    "    print('vec1 = %s' % vektor)"
   ]
  },
  {
   "cell_type": "code",
   "execution_count": 37,
   "metadata": {},
   "outputs": [
    {
     "name": "stdout",
     "output_type": "stream",
     "text": [
      "[  7.5  18.5  22.5]\n"
     ]
    }
   ],
   "source": [
    "vec1 = vektor(1.5, 3.7, 4.5)\n",
    "\n",
    "def bruk_dot(vektor, skalar):\n",
    "    import numpy as np\n",
    "    return np.dot(vektor, skalar)\n",
    "\n",
    "vec2 = bruk_dot(vec1, 5)\n",
    "print(vec2)"
   ]
  },
  {
   "cell_type": "code",
   "execution_count": 60,
   "metadata": {
    "collapsed": true
   },
   "outputs": [],
   "source": [
    "def vektorlengde(vektor, skalar):\n",
    "    from numpy.linalg import norm\n",
    "    \n",
    "    vl0 = norm(vektor)\n",
    "    vl1 = norm(bruk_dot(vektor, skalar))\n",
    "    \n",
    "    print('Lengde før:\\t%f\\nLengde etter:\\t%f\\nForhold:\\t%f' % (vl0, vl1, vl0/vl1))"
   ]
  },
  {
   "cell_type": "code",
   "execution_count": 61,
   "metadata": {},
   "outputs": [
    {
     "name": "stdout",
     "output_type": "stream",
     "text": [
      "Lengde før:\t30.079062\n",
      "Lengde etter:\t90.237187\n",
      "Forhold:\t0.333333\n"
     ]
    }
   ],
   "source": [
    "# Setter inn vilkårlige verdier. Merk at vektoren er på listeform\n",
    "vektorlengde([7.5, 18.5, 22.5], 3)"
   ]
  },
  {
   "cell_type": "code",
   "execution_count": 67,
   "metadata": {},
   "outputs": [
    {
     "data": {
      "text/plain": [
       "541.5"
      ]
     },
     "execution_count": 67,
     "metadata": {},
     "output_type": "execute_result"
    }
   ],
   "source": [
    "# e) Bruker funksjonen fra c)\n",
    "bruk_dot([7.5, 18.5, 22.5], [2.5, 1.5, 22])"
   ]
  },
  {
   "cell_type": "code",
   "execution_count": 75,
   "metadata": {},
   "outputs": [
    {
     "name": "stdout",
     "output_type": "stream",
     "text": [
      "1953\n"
     ]
    }
   ],
   "source": [
    "# Lister og løkker\n",
    "number_list = [i for i in range(100)]\n",
    "mod_sum = sum([item for item in number_list if item % 3 == 0 or item % 10 == 0])\n",
    "print(mod_sum)"
   ]
  },
  {
   "cell_type": "code",
   "execution_count": 80,
   "metadata": {},
   "outputs": [
    {
     "name": "stdout",
     "output_type": "stream",
     "text": [
      "[1, 0, 3, 2, 5, 4, 7, 6, 9, 8, 11, 10, 13, 12, 15, 14, 17, 16, 19, 18, 21, 20, 23, 22, 25, 24, 27, 26, 29, 28, 31, 30, 33, 32, 35, 34, 37, 36, 39, 38, 41, 40, 43, 42, 45, 44, 47, 46, 49, 48, 51, 50, 53, 52, 55, 54, 57, 56, 59, 58, 61, 60, 63, 62, 65, 64, 67, 66, 69, 68, 71, 70, 73, 72, 75, 74, 77, 76, 79, 78, 81, 80, 83, 82, 85, 84, 87, 86, 89, 88, 91, 90, 93, 92, 95, 94, 97, 96, 99, 98]\n"
     ]
    }
   ],
   "source": [
    "number_list = [i for i in range(100)]\n",
    "for i in range(0, len(number_list), 2):\n",
    "    number_list[i], number_list[i+1] = number_list[i+1], number_list[i]\n",
    "    \n",
    "print(number_list)"
   ]
  },
  {
   "cell_type": "code",
   "execution_count": 87,
   "metadata": {},
   "outputs": [
    {
     "name": "stdout",
     "output_type": "stream",
     "text": [
      "[98, 99, 96, 97, 94, 95, 92, 93, 90, 91]\n"
     ]
    }
   ],
   "source": [
    "reversed_list = number_list[::-1]\n",
    "print(reversed_list[:10])"
   ]
  }
 ],
 "metadata": {
  "anaconda-cloud": {},
  "kernelspec": {
   "display_name": "Python [default]",
   "language": "python",
   "name": "python3"
  },
  "language_info": {
   "codemirror_mode": {
    "name": "ipython",
    "version": 3
   },
   "file_extension": ".py",
   "mimetype": "text/x-python",
   "name": "python",
   "nbconvert_exporter": "python",
   "pygments_lexer": "ipython3",
   "version": "3.5.3"
  }
 },
 "nbformat": 4,
 "nbformat_minor": 2
}
